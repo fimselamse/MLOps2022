{
 "cells": [
  {
   "cell_type": "code",
   "execution_count": 2,
   "metadata": {},
   "outputs": [],
   "source": [
    "import argparse\n",
    "import sys, os\n",
    "sys.path.append(os.path.abspath(\"..\"))\n",
    "\n",
    "import torch\n",
    "from torch import nn, optim\n",
    "from src.models.model import MyAwesomeModel\n",
    "import matplotlib.pyplot as plt\n",
    "import numpy as np"
   ]
  },
  {
   "cell_type": "code",
   "execution_count": null,
   "metadata": {},
   "outputs": [],
   "source": [
    "model = MyAwesomeModel()\n",
    "        model.train()\n",
    "        train_set = torch.load(os.path.abspath(os.path.join(dir, '../../data/processed/train_mnist.pt')))\n",
    "        trainloader = torch.utils.data.DataLoader(train_set, batch_size=args.batchsize, shuffle=True)\n",
    "        \n",
    "        criterion = nn.NLLLoss()\n",
    "        optimizer = optim.Adam(model.parameters(), lr=args.lr)\n",
    "        step = 0\n",
    "        for e in range(args.epochs):\n",
    "            running_loss = 0\n",
    "            for images, labels in trainloader:\n",
    "                optimizer.zero_grad()\n",
    "                                    \n",
    "                out = model(images)\n",
    "                \n",
    "                loss = criterion(out, labels)\n",
    "                loss.backward()\n",
    "                \n",
    "                optimizer.step()\n",
    "                \n",
    "                running_loss += loss.item()\n",
    "                train_losses.append(loss.item())\n",
    "                step+=1\n",
    "                if step % 100 == 0:"
   ]
  }
 ],
 "metadata": {
  "interpreter": {
   "hash": "5e6c4ce725f74e7e2d791152d1c49900eadd59140924e72506b54ef17461f95d"
  },
  "kernelspec": {
   "display_name": "Python 3.9.7 64-bit ('my_env': conda)",
   "language": "python",
   "name": "python3"
  },
  "language_info": {
   "codemirror_mode": {
    "name": "ipython",
    "version": 3
   },
   "file_extension": ".py",
   "mimetype": "text/x-python",
   "name": "python",
   "nbconvert_exporter": "python",
   "pygments_lexer": "ipython3",
   "version": "3.9.7"
  },
  "orig_nbformat": 4
 },
 "nbformat": 4,
 "nbformat_minor": 2
}
